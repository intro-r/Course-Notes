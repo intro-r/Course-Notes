{
 "cells": [
  {
   "cell_type": "markdown",
   "metadata": {},
   "source": [
    "# 1 Binomial Logistic Regression"
   ]
  },
  {
   "cell_type": "markdown",
   "metadata": {},
   "source": [
    "## 1.1 Single-Variable Logistic Regression"
   ]
  },
  {
   "cell_type": "markdown",
   "metadata": {},
   "source": [
    "Suppose we are interested in the survival of passengers on the Titanic. In particular, suppose we want to know whether a passenger's gender impacted whether or not they survived. We can investigagte this using logistic regression."
   ]
  },
  {
   "cell_type": "code",
   "execution_count": null,
   "metadata": {
    "collapsed": false
   },
   "outputs": [],
   "source": [
    "library(ggplot2)\n",
    "library(broom)\n",
    "library(tidyverse)\n",
    "\n",
    "titanic <- read_csv(\"titanic_subset.csv\")"
   ]
  },
  {
   "cell_type": "code",
   "execution_count": null,
   "metadata": {
    "collapsed": false
   },
   "outputs": [],
   "source": [
    "fm1 <- glm(survived ~ sex, titanic, family = binomial(link = \"logit\"))"
   ]
  },
  {
   "cell_type": "code",
   "execution_count": null,
   "metadata": {
    "collapsed": false
   },
   "outputs": [],
   "source": [
    "tidy(fm1)"
   ]
  },
  {
   "cell_type": "code",
   "execution_count": null,
   "metadata": {
    "collapsed": false
   },
   "outputs": [],
   "source": [
    "glance(fm1)"
   ]
  },
  {
   "cell_type": "code",
   "execution_count": null,
   "metadata": {
    "collapsed": true
   },
   "outputs": [],
   "source": [
    "# Define a function to compute the inverse logit. \n",
    "# Recall this is our link function.\n",
    "\n",
    "invlogit <- function(eta) {\n",
    "    res <- 1/(1 + exp(-eta))\n",
    "    return(res)\n",
    "}"
   ]
  },
  {
   "cell_type": "code",
   "execution_count": null,
   "metadata": {
    "collapsed": false
   },
   "outputs": [],
   "source": [
    "beta0 <- tidy(fm1)$estimate[1]\n",
    "beta1 <- tidy(fm1)$estimate[2]\n",
    "\n",
    "invlogit(beta0 + beta1 * 0)        # estimated Pr(survived | female)\n",
    "invlogit(beta0 + beta1 * 1)        # estimated Pr(survived | male)"
   ]
  },
  {
   "cell_type": "markdown",
   "metadata": {},
   "source": [
    "*** Note that the `fitted()` function can be used to obtain predicted probabilities instead of using `invlogit()`"
   ]
  },
  {
   "cell_type": "markdown",
   "metadata": {},
   "source": [
    "---"
   ]
  },
  {
   "cell_type": "markdown",
   "metadata": {},
   "source": [
    "---"
   ]
  },
  {
   "cell_type": "markdown",
   "metadata": {},
   "source": [
    "## 1.2 Why do we Need Logistic Regression?"
   ]
  },
  {
   "cell_type": "code",
   "execution_count": null,
   "metadata": {
    "collapsed": false
   },
   "outputs": [],
   "source": [
    "# Simulate some data\n",
    "n <- 500\n",
    "beta0 <- 1.2\n",
    "beta1 <- 0.7\n",
    "\n",
    "x <- rnorm(n)           \n",
    "\n",
    "pr <- invlogit(beta0 + beta1*x)\n",
    "\n",
    "y <- rbinom(n, 1, pr)\n",
    "\n",
    "\n",
    "dat <- data.frame(y, x)\n",
    "\n",
    "# Compare linear regression to logistic; find that \n",
    "# logistic does better job of recovering betas\n",
    "tidy(lm(y ~ x, dat))\n",
    "tidy(glm(y ~ x, dat, family = binomial(link = \"logit\")))\n"
   ]
  },
  {
   "cell_type": "markdown",
   "metadata": {},
   "source": [
    "---"
   ]
  },
  {
   "cell_type": "markdown",
   "metadata": {},
   "source": [
    "---"
   ]
  },
  {
   "cell_type": "markdown",
   "metadata": {},
   "source": [
    "## 1.3 Multivariate Binomial Logistic Regression"
   ]
  },
  {
   "cell_type": "markdown",
   "metadata": {},
   "source": [
    "Suppose now we want to investigate the effect of both sex and age on survival. We use the model below. "
   ]
  },
  {
   "cell_type": "code",
   "execution_count": null,
   "metadata": {
    "collapsed": true
   },
   "outputs": [],
   "source": [
    "fm2 <- glm(survived ~ sex + age, titanic, family = binomial(link = \"logit\"))"
   ]
  },
  {
   "cell_type": "code",
   "execution_count": null,
   "metadata": {
    "collapsed": false
   },
   "outputs": [],
   "source": [
    "tidy(fm2)"
   ]
  },
  {
   "cell_type": "markdown",
   "metadata": {},
   "source": [
    "---"
   ]
  },
  {
   "cell_type": "markdown",
   "metadata": {},
   "source": [
    "---"
   ]
  },
  {
   "cell_type": "markdown",
   "metadata": {},
   "source": [
    "## 1.4 Logistic Regression with Interaction"
   ]
  },
  {
   "cell_type": "code",
   "execution_count": null,
   "metadata": {
    "collapsed": false
   },
   "outputs": [],
   "source": [
    "fm3 <- glm(survived ~ sex + age + age*sex, titanic, family = binomial(link = \"logit\"))\n",
    "\n",
    "tidy(fm3)"
   ]
  },
  {
   "cell_type": "code",
   "execution_count": null,
   "metadata": {
    "collapsed": false
   },
   "outputs": [],
   "source": [
    "ggplot(titanic, aes(x = age, y = as.numeric(survived), color = sex)) +\n",
    "    stat_smooth(method = \"glm\", alpha = 0.2, size = 2, aes(fill = sex)) +\n",
    "    geom_point(position=position_jitter(height = 0.03, width = 0)) +\n",
    "    xlab(\"Age\") + \n",
    "    ylab(\"Pr(survived)\")"
   ]
  },
  {
   "cell_type": "code",
   "execution_count": null,
   "metadata": {
    "collapsed": false
   },
   "outputs": [],
   "source": [
    "lr(fm1, fm2)"
   ]
  },
  {
   "cell_type": "markdown",
   "metadata": {},
   "source": [
    "---"
   ]
  },
  {
   "cell_type": "markdown",
   "metadata": {},
   "source": [
    "---"
   ]
  },
  {
   "cell_type": "markdown",
   "metadata": {},
   "source": [
    "## 1.5 Predictions using Fitted Model"
   ]
  },
  {
   "cell_type": "code",
   "execution_count": null,
   "metadata": {
    "collapsed": false
   },
   "outputs": [],
   "source": [
    "fm2 <- glm(survived ~ age, titanic, family = binomial(link = \"logit\"))\n",
    "\n",
    "predict(fm2, newdata=data.frame(age = 90), type = \"response\")"
   ]
  },
  {
   "cell_type": "markdown",
   "metadata": {},
   "source": [
    "---"
   ]
  },
  {
   "cell_type": "markdown",
   "metadata": {},
   "source": [
    "---"
   ]
  },
  {
   "cell_type": "markdown",
   "metadata": {},
   "source": [
    "# 2 Poisson Regression"
   ]
  },
  {
   "cell_type": "markdown",
   "metadata": {},
   "source": [
    "## 2.1 Poisson Model for Number of Procedures"
   ]
  },
  {
   "cell_type": "markdown",
   "metadata": {},
   "source": [
    "Suppose we want to model the number of procedure for diabetes patients admitted to the hospital. We use several Poisson models below."
   ]
  },
  {
   "cell_type": "code",
   "execution_count": null,
   "metadata": {
    "collapsed": false
   },
   "outputs": [],
   "source": [
    "library(tidyverse)\n",
    "\n",
    "dia <- read_csv(\"diabetes_data_clean.csv\")"
   ]
  },
  {
   "cell_type": "code",
   "execution_count": null,
   "metadata": {
    "collapsed": false
   },
   "outputs": [],
   "source": [
    "spec(dia)"
   ]
  },
  {
   "cell_type": "code",
   "execution_count": null,
   "metadata": {
    "collapsed": false
   },
   "outputs": [],
   "source": [
    "fm5 <- glm(num_procedures ~ number_diagnoses, dia, family = poisson(link = \"log\"))"
   ]
  },
  {
   "cell_type": "code",
   "execution_count": null,
   "metadata": {
    "collapsed": false
   },
   "outputs": [],
   "source": [
    "tidy(fm5)"
   ]
  },
  {
   "cell_type": "code",
   "execution_count": null,
   "metadata": {
    "collapsed": false
   },
   "outputs": [],
   "source": [
    "glance(fm5)"
   ]
  },
  {
   "cell_type": "code",
   "execution_count": null,
   "metadata": {
    "collapsed": false
   },
   "outputs": [],
   "source": [
    "dia_subset <- sample_frac(dia, 0.2)\n",
    "\n",
    "ggplot(dia_subset, aes(x = number_diagnoses, y = num_procedures)) +\n",
    "    geom_jitter(alpha = 0.3)"
   ]
  },
  {
   "cell_type": "code",
   "execution_count": null,
   "metadata": {
    "collapsed": true
   },
   "outputs": [],
   "source": [
    "fm6 <- glm(num_procedures ~ number_diagnoses + num_medications + number_diagnoses*num_medications, dia, family = poisson(link = \"log\"))"
   ]
  },
  {
   "cell_type": "code",
   "execution_count": null,
   "metadata": {
    "collapsed": false
   },
   "outputs": [],
   "source": [
    "tidy(fm6)"
   ]
  },
  {
   "cell_type": "code",
   "execution_count": null,
   "metadata": {
    "collapsed": false
   },
   "outputs": [],
   "source": [
    "ggplot(dia_subset, aes(x = number_diagnoses, y = num_procedures, colour = num_medications)) +\n",
    "    geom_jitter(alpha = 0.5) + \n",
    "    stat_smooth(method = \"glm\")"
   ]
  },
  {
   "cell_type": "code",
   "execution_count": null,
   "metadata": {
    "collapsed": true
   },
   "outputs": [],
   "source": []
  }
 ],
 "metadata": {
  "kernelspec": {
   "display_name": "R",
   "language": "R",
   "name": "ir"
  },
  "language_info": {
   "codemirror_mode": "r",
   "file_extension": ".r",
   "mimetype": "text/x-r-source",
   "name": "R",
   "pygments_lexer": "r",
   "version": "3.4.3"
  }
 },
 "nbformat": 4,
 "nbformat_minor": 2
}
