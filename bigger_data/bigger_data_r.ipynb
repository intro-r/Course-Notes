{
 "cells": [
  {
   "cell_type": "markdown",
   "metadata": {},
   "source": [
    "# 1 Random Forests"
   ]
  },
  {
   "cell_type": "markdown",
   "metadata": {},
   "source": [
    "### 1.1 Predicting Hospital Readmission"
   ]
  },
  {
   "cell_type": "markdown",
   "metadata": {},
   "source": [
    "Using the `diabetes_data_clean` data set from previous examples, suppose we want to use random forests to build a model for predicting whether or not a patient will be later re-admitted"
   ]
  },
  {
   "cell_type": "code",
   "execution_count": null,
   "metadata": {
    "collapsed": false,
    "scrolled": true
   },
   "outputs": [],
   "source": [
    "library(ranger)\n",
    "library(randomForest)\n",
    "library(tidyverse)\n",
    "\n",
    "titanic_raw <- read.csv(\"diabetes_data_clean.csv\")"
   ]
  },
  {
   "cell_type": "code",
   "execution_count": null,
   "metadata": {
    "collapsed": false
   },
   "outputs": [],
   "source": [
    "# exclude identifier variables\n",
    "\n",
    "titanic <- titanic_raw %>%\n",
    "             select(-c(encounter_id, patient_nbr, weight, medical_specialty, payer_code, diag_1, diag_2, diag_3)) %>%\n",
    "             filter(complete.cases(.))\n",
    "\n"
   ]
  },
  {
   "cell_type": "markdown",
   "metadata": {},
   "source": [
    "### 1.2 Specify Subsets for Training and Test "
   ]
  },
  {
   "cell_type": "code",
   "execution_count": null,
   "metadata": {
    "collapsed": false
   },
   "outputs": [],
   "source": [
    "n_total <- nrow(titanic)\n",
    "n_train <- floor(0.80 * n_total)\n",
    "\n",
    "train <- sample(1:n_total, n_train)\n",
    "test <- setdiff(1:n_total, train)"
   ]
  },
  {
   "cell_type": "code",
   "execution_count": null,
   "metadata": {
    "collapsed": true
   },
   "outputs": [],
   "source": [
    "titanic$readmitted <- titanic$readmitted != \"NO\""
   ]
  },
  {
   "cell_type": "markdown",
   "metadata": {},
   "source": [
    "### 1.3 Fit Random Forest"
   ]
  },
  {
   "cell_type": "code",
   "execution_count": null,
   "metadata": {
    "collapsed": false
   },
   "outputs": [],
   "source": [
    "fm1 <- ranger(factor(readmitted) ~ ., \n",
    "              data = titanic[train, ], \n",
    "              importance = \"impurity\", \n",
    "              num.tree = 1000,\n",
    "              mtry = 10,\n",
    "              min.node.size = 20)"
   ]
  },
  {
   "cell_type": "code",
   "execution_count": null,
   "metadata": {
    "collapsed": false
   },
   "outputs": [],
   "source": [
    "show(fm1)"
   ]
  },
  {
   "cell_type": "code",
   "execution_count": null,
   "metadata": {
    "collapsed": false
   },
   "outputs": [],
   "source": [
    "yhat <- predict(fm1, titanic[test, ])\n",
    "mean(titanic[test, \"readmitted\"] == yhat$predictions)   # test error "
   ]
  },
  {
   "cell_type": "code",
   "execution_count": null,
   "metadata": {
    "collapsed": false
   },
   "outputs": [],
   "source": [
    "# Plotting variable importance\n",
    "\n",
    "imp <- sort(ranger::importance(fm1), decreasing = TRUE)\n",
    "imp_vals <- data.frame(gini = imp)\n",
    "imp_vals$variable <- factor(names(imp), levels = names(imp))\n",
    "\n",
    "ggplot(imp_vals[1:30, ], aes(x = gini, y = variable)) +\n",
    "    geom_point(colour = \"blue\")"
   ]
  },
  {
   "cell_type": "code",
   "execution_count": null,
   "metadata": {
    "collapsed": true
   },
   "outputs": [],
   "source": [
    "fm2 <- randomForest(factor(readmitted) ~ ., \n",
    "                    data = titanic[train, ], \n",
    "                    importance = TRUE,\n",
    "                    ntree = 500)"
   ]
  },
  {
   "cell_type": "code",
   "execution_count": null,
   "metadata": {
    "collapsed": false
   },
   "outputs": [],
   "source": [
    "show(fm2)"
   ]
  },
  {
   "cell_type": "code",
   "execution_count": null,
   "metadata": {
    "collapsed": false
   },
   "outputs": [],
   "source": [
    "yhat <- predict(fm2, titanic[test, ])\n",
    "mean(titanic[test, \"readmitted\"] == yhat)"
   ]
  },
  {
   "cell_type": "markdown",
   "metadata": {},
   "source": [
    "---"
   ]
  },
  {
   "cell_type": "markdown",
   "metadata": {},
   "source": [
    "---"
   ]
  },
  {
   "cell_type": "markdown",
   "metadata": {},
   "source": [
    "# 2 Speed Benchmark in R"
   ]
  },
  {
   "cell_type": "markdown",
   "metadata": {
    "collapsed": false
   },
   "source": [
    "### 2.1 Truncating Near-Zero Values"
   ]
  },
  {
   "cell_type": "code",
   "execution_count": null,
   "metadata": {
    "collapsed": true
   },
   "outputs": [],
   "source": [
    "trunc_near_zeros <- function(A, thresh) {\n",
    "    n <- nrow(A)\n",
    "    p <- ncol(A)\n",
    "    \n",
    "    for (j in 1:p) {\n",
    "        for (i in 1:n) {\n",
    "            if (abs(A[i, j]) < thresh) {\n",
    "                A[i, j] <- 0.0\n",
    "            }\n",
    "        }\n",
    "    }\n",
    "    return(A)\n",
    "}"
   ]
  },
  {
   "cell_type": "code",
   "execution_count": null,
   "metadata": {
    "collapsed": false
   },
   "outputs": [],
   "source": [
    "n <- 1000000\n",
    "p <- 100\n",
    "X <- matrix(rnorm(n * p), ncol = p) "
   ]
  },
  {
   "cell_type": "code",
   "execution_count": null,
   "metadata": {
    "collapsed": false
   },
   "outputs": [],
   "source": [
    "system.time(expr = {\n",
    "    X2 <- trunc_near_zeros(X, 0.001)\n",
    "})"
   ]
  },
  {
   "cell_type": "markdown",
   "metadata": {},
   "source": [
    "---"
   ]
  },
  {
   "cell_type": "markdown",
   "metadata": {},
   "source": [
    "---"
   ]
  },
  {
   "cell_type": "markdown",
   "metadata": {},
   "source": [
    "---"
   ]
  },
  {
   "cell_type": "markdown",
   "metadata": {},
   "source": [
    "---"
   ]
  },
  {
   "cell_type": "markdown",
   "metadata": {},
   "source": [
    "### 2.2 More Idiomatic (and faster) Version"
   ]
  },
  {
   "cell_type": "code",
   "execution_count": null,
   "metadata": {
    "collapsed": true
   },
   "outputs": [],
   "source": [
    "trunc_near_zeros2 <- function(dat, thresh) {\n",
    "    p <- ncol(dat)\n",
    "    for (j in 1:p) {\n",
    "        dat[, j] <- ifelse(abs(dat[, j]) < thresh, 0.0, dat[, j])\n",
    "    }\n",
    "    return(dat)\n",
    "}"
   ]
  },
  {
   "cell_type": "code",
   "execution_count": null,
   "metadata": {
    "collapsed": false
   },
   "outputs": [],
   "source": [
    "n <- 1000000\n",
    "p <- 100\n",
    "X <- matrix(rnorm(n * p), ncol = p) \n",
    "\n",
    "system.time(expr = {\n",
    "    X2 <- trunc_near_zeros2(df1, 0.01)\n",
    "})"
   ]
  },
  {
   "cell_type": "markdown",
   "metadata": {},
   "source": [
    "### 2.3 Even Faster Version"
   ]
  },
  {
   "cell_type": "code",
   "execution_count": null,
   "metadata": {
    "collapsed": false
   },
   "outputs": [],
   "source": [
    "trunc_near_zeros3 <- function(dat, thresh) {\n",
    "    dat[abs(dat) < thresh] <- 0.0 \n",
    "    return(dat)\n",
    "}"
   ]
  },
  {
   "cell_type": "code",
   "execution_count": null,
   "metadata": {
    "collapsed": false
   },
   "outputs": [],
   "source": [
    "n <- 1000000\n",
    "p <- 100\n",
    "X <- matrix(rnorm(n * p), ncol = p) \n",
    "\n",
    "system.time(expr = {\n",
    "    X3 <- trunc_near_zeros3(X, 0.001)\n",
    "})"
   ]
  }
 ],
 "metadata": {
  "kernelspec": {
   "display_name": "R",
   "language": "R",
   "name": "ir"
  },
  "language_info": {
   "codemirror_mode": "r",
   "file_extension": ".r",
   "mimetype": "text/x-r-source",
   "name": "R",
   "pygments_lexer": "r",
   "version": "3.4.3"
  }
 },
 "nbformat": 4,
 "nbformat_minor": 2
}
